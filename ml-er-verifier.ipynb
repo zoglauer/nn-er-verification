{
 "cells": [
  {
   "cell_type": "code",
   "execution_count": 1,
   "id": "c11266eb",
   "metadata": {},
   "outputs": [],
   "source": [
    "import numpy as np\n",
    "from numpy import *\n",
    "import csv\n",
    "from os import listdir\n",
    "from os.path import isfile, join\n",
    "import fnmatch\n",
    "import os\n",
    "\n",
    "import subprocess\n",
    "import sys\n",
    "\n",
    "import platform\n",
    "\n",
    "import pdfkit"
   ]
  },
  {
   "cell_type": "code",
   "execution_count": null,
   "id": "9ae8db22",
   "metadata": {},
   "outputs": [],
   "source": [
    "# ==== Input ====\n",
    "\n",
    "# ??? confused about how the algo input works\n",
    "AlgorithmA = \"Classic Bayes MLP BDTD\"\n",
    "AlgorithmB = \"Trained Nueral Network\"\n",
    "\n",
    "# ??? ask about detector geometry\n",
    "Geometry = \"/home/andreas/Science/Software/Nuclearizer/MassModel/COSI.DetectorHead.geo.setup\"\n",
    "\n",
    "\n",
    "\n",
    "energyInput = input(\"Enter 4 energy values (seperate values by semicolon):\") #[] # ex format –energies=200;500;1000;2000\n",
    "anglesInput = input(\"Enter 4 energy values (seperate values by semicolon):\") # ex format –angles=0,0;20,45;40,180\n",
    "\n",
    "def formatInput(data, inputA):\n",
    "    values = inputA.split(\";\")  \n",
    "    \n",
    "    return \"-{data}={inputA}\"\n",
    "formatInput(\"energy\", energyInput)\n",
    "formatInput(\"energy\", anglesInput)\n",
    "\n",
    "\n",
    "# ==== Verification Tasks ====\n",
    "\n",
    "# Checking if all neccessary programs are installed\n",
    "def check_program(program): \n",
    "    \"\"\" Ensures that 'program' exists and otherwise directs user to install it. \"\"\"\n",
    "    \n",
    "    try:\n",
    "        subprocess.run([program, \"--version\"], check=True, stdout=subprocess.DEVNULL, stderr=subprocess.DEVNULL)\n",
    "    except subprocess.CalledProcessError:\n",
    "        print(f\"ERROR: {program} must be installed\")\n",
    "        sys.exit(1)\n",
    "\n",
    "check_program(\"mimrec\")\n",
    "check_program(\"revan\")\n",
    "\n",
    "\n",
    "# Running other scripts\n",
    "\n",
    "# ??? what other script\n",
    "def other_scripts(script_to_run):\n",
    "    \"\"\" Runs other scripts \"\"\"\n",
    "    if platform.system() == \"Darwin\":\n",
    "        subprocess.run([\"python\", script_to_run])        \n",
    "    elif platform.system() == \"Windows\" or platform.system() == \"Linux\":\n",
    "        subprocess.run([\"python3\", script_to_run])\n",
    "\n"
   ]
  },
  {
   "cell_type": "code",
   "execution_count": null,
   "id": "33f53107",
   "metadata": {},
   "outputs": [],
   "source": [
    "# Organization\n",
    "\n",
    "os.makedirs(\"Data\", exist_ok=True)\n",
    "\n",
    "# Move all simulation files to the \"data\" folder\n",
    "for file in os.listdir():\n",
    "    if file.endswith(\".txt\"):\n",
    "        os.rename(file, \"Data/\" + file)\n",
    "        \n",
    "# Makes a new Results_DateXYZ for each run\n",
    "for run in blah:\n",
    "    os.makedirs(\"Results_DateXYZ\", exist\n",
    "\n",
    "# Print the content of the \"data\" folder\n",
    "print(os.listdir(\"Data\"))"
   ]
  },
  {
   "cell_type": "code",
   "execution_count": null,
   "id": "1e984118",
   "metadata": {},
   "outputs": [],
   "source": [
    "# Check if the simulations exist in the simulation folder, if not, do the simulations\n",
    "# Run the event reconstruction of the simulations with the classic approach and with the neural-network approach (store those in the results folder)\n",
    "# Calculate the Compton scatter angle distribution, and make a plot comparing the two creates with the classic and the neural network approach.\n",
    "\n",
    "\n"
   ]
  },
  {
   "cell_type": "code",
   "execution_count": null,
   "id": "d2bb627a",
   "metadata": {},
   "outputs": [],
   "source": [
    "# Summary PDF\n",
    "\n",
    "# The plot\n",
    "plot = #somehow save plot and define\n",
    "\n",
    "# The name of the PDF file\n",
    "name = #whatever was plotted\n",
    "summary_file = f\"summary_of_{name}.pdf\" \n",
    "\n",
    "# Write the content to the PDF file\n",
    "pdfkit.from_string(plot, pdf_file)"
   ]
  }
 ],
 "metadata": {
  "kernelspec": {
   "display_name": "Python 3",
   "language": "python",
   "name": "python3"
  },
  "language_info": {
   "codemirror_mode": {
    "name": "ipython",
    "version": 3
   },
   "file_extension": ".py",
   "mimetype": "text/x-python",
   "name": "python",
   "nbconvert_exporter": "python",
   "pygments_lexer": "ipython3",
   "version": "3.8.8"
  }
 },
 "nbformat": 4,
 "nbformat_minor": 5
}
